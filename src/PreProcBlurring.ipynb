{
  "nbformat": 4,
  "nbformat_minor": 0,
  "metadata": {
    "colab": {
      "name": "PreProcBlurring.ipynb",
      "provenance": []
    },
    "kernelspec": {
      "name": "python3",
      "display_name": "Python 3"
    },
    "language_info": {
      "name": "python"
    }
  },
  "cells": [
    {
      "cell_type": "code",
      "execution_count": null,
      "metadata": {
        "id": "D-rWRB7_ejo2"
      },
      "outputs": [],
      "source": [
        "# Processamento de Imagens SCC0251 - 2022.1\n",
        "# Projeto Final\n",
        "\n",
        "# Nomes: \n",
        "  # João Victor Sene Araújo  | nUSP: 11796382\n",
        "  # Pedro Augusto Ribeiro Gomes | nUSP: 11819125"
      ]
    },
    {
      "cell_type": "markdown",
      "source": [
        "# Algoritmo de Pré-Processamento\n",
        "Aplicando efeito de blur nas imagens para simular uma degradação nas imagens obtidas a partir do dataset do Kaggle, para que possam posteriormente serem passadas para o algoritmo de Restauração."
      ],
      "metadata": {
        "id": "Nt11nscPfVGu"
      }
    },
    {
      "cell_type": "code",
      "source": [
        "import numpy as np\n",
        "import imageio\n",
        "import matplotlib.pyplot as plt\n",
        "from scipy.signal import fftconvolve"
      ],
      "metadata": {
        "id": "Aa2YAN6vgDVR"
      },
      "execution_count": null,
      "outputs": []
    },
    {
      "cell_type": "code",
      "source": [
        "images_names = [\"images/1 no.jpeg\",\n",
        "                \"images/2 no.jpeg\",\n",
        "                \"images/3 no.jpg\",\n",
        "                \"images/4 no.jpg\",\n",
        "                \"images/5 no.jpg\",\n",
        "                \"images/6 no.jpg\",\n",
        "                \"images/7 no.jpg\",\n",
        "                \"images/8 no.jpg\",\n",
        "                \"images/9 no.jpg\",\n",
        "                \"images/10 no.jpg\",]\n",
        "\n",
        "for image_name in images_names:\n",
        "  # Image.open(\"images/1 no.jpeg\")\n",
        "  Image.open(image_name).convert('L').save(image_name)\n",
        "  img = imageio.imread(image_name)\n",
        "\n",
        "  n=10;\n",
        "  s = random.randint(3, 9)\n",
        "\n",
        "  psf = gaussian_filter(k=n, sigma=s)\n",
        "  psf = paddingKernel(img,psf)\n",
        "\n",
        "  img_blur = fftConvolve(img,psf)\n",
        "\n",
        "  imageio.imwrite(\"edited/\"+image_name, img_blur)"
      ],
      "metadata": {
        "id": "356xzEdQf4uf"
      },
      "execution_count": null,
      "outputs": []
    }
  ]
}